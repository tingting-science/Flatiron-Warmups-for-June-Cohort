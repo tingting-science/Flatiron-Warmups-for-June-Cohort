{
 "cells": [
  {
   "cell_type": "code",
   "execution_count": 16,
   "metadata": {},
   "outputs": [],
   "source": [
    "def index_of_target_number(nums, target):\n",
    "    indicies = []\n",
    "#     print('Target number found in index/indicies:')\n",
    "    for index in list(range(0, len(nums))):\n",
    "        if nums[index] == target:\n",
    "#             print(index)\n",
    "            indicies.append(index)\n",
    "#     if len(indicies) == 0:\n",
    "#         pass\n",
    "#         print('... none found.')\n",
    "    return indicies"
   ]
  },
  {
   "cell_type": "code",
   "execution_count": 12,
   "metadata": {},
   "outputs": [
    {
     "data": {
      "text/plain": [
       "[6, 7]"
      ]
     },
     "execution_count": 12,
     "metadata": {},
     "output_type": "execute_result"
    }
   ],
   "source": [
    "index_of_target_number([2, 9, 11, 15, 34, 12, 45, 45, 67, 1, 3, 5], 45)"
   ]
  },
  {
   "cell_type": "code",
   "execution_count": 13,
   "metadata": {},
   "outputs": [],
   "source": [
    "def indicies_of_summands_of_target(nums, target):\n",
    "    indicies = []\n",
    "    for index in list(range(0, len(nums))):\n",
    "        dif = target - nums[index]\n",
    "        sol = index_of_target_number(nums, dif)\n",
    "        if sol:\n",
    "            indicies = [index, sol[0]]\n",
    "            break\n",
    "    return indicies"
   ]
  },
  {
   "cell_type": "code",
   "execution_count": 15,
   "metadata": {},
   "outputs": [
    {
     "data": {
      "text/plain": [
       "[2, 4]"
      ]
     },
     "execution_count": 15,
     "metadata": {},
     "output_type": "execute_result"
    }
   ],
   "source": [
    "indicies_of_summands_of_target([2, 9, 11, 15, 34, 12, 45, 45, 67, 1, 3, 5], 45)"
   ]
  },
  {
   "cell_type": "code",
   "execution_count": 31,
   "metadata": {},
   "outputs": [],
   "source": [
    "def single_for_indicies_of_summands_of_target(nums, target):\n",
    "    indicies = []\n",
    "    index_missing_dict = {}\n",
    "    for index in range(0, len(nums)):\n",
    "        dif = target - nums[index]\n",
    "        index_missing_dict[dif] = index\n",
    "        if nums[index] in index_missing_dict.keys():\n",
    "            indicies = [index, index_missing_dict.get(nums[index])]\n",
    "    return indicies"
   ]
  },
  {
   "cell_type": "code",
   "execution_count": 32,
   "metadata": {},
   "outputs": [
    {
     "data": {
      "text/plain": [
       "[4, 2]"
      ]
     },
     "execution_count": 32,
     "metadata": {},
     "output_type": "execute_result"
    }
   ],
   "source": [
    "single_for_indicies_of_summands_of_target([2, 9, 11, 15, 34, 12, 45, 45, 67, 1, 3, 5], 45)"
   ]
  },
  {
   "cell_type": "code",
   "execution_count": null,
   "metadata": {},
   "outputs": [],
   "source": []
  }
 ],
 "metadata": {
  "kernelspec": {
   "display_name": "Python 3",
   "language": "python",
   "name": "python3"
  },
  "language_info": {
   "codemirror_mode": {
    "name": "ipython",
    "version": 3
   },
   "file_extension": ".py",
   "mimetype": "text/x-python",
   "name": "python",
   "nbconvert_exporter": "python",
   "pygments_lexer": "ipython3",
   "version": "3.7.3"
  }
 },
 "nbformat": 4,
 "nbformat_minor": 2
}
