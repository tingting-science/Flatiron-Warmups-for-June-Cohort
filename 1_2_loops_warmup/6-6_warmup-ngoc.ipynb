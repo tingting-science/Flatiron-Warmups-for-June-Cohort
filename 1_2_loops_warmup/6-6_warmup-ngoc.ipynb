{
 "cells": [
  {
   "cell_type": "markdown",
   "metadata": {},
   "source": [
    "# For loops and alternatives\n",
    "\n",
    "Given an array of integers, return the index of the target number - try doing it with a for loop. Notice that the target number can repeat several times.\n",
    "\n",
    "\n",
    "### Example:\n",
    "\n",
    "Given nums = [2, 9, 11, 15], target = 9,\n",
    "\n",
    "Because nums[1] = 9\n",
    "\n",
    "return [1]."
   ]
  },
  {
   "cell_type": "code",
   "execution_count": 1,
   "metadata": {},
   "outputs": [
    {
     "data": {
      "text/plain": [
       "[1]"
      ]
     },
     "execution_count": 1,
     "metadata": {},
     "output_type": "execute_result"
    }
   ],
   "source": [
    "def find_indices(arr, target):\n",
    "    nums = []\n",
    "    for i in range(len(arr)):\n",
    "        if arr[i] == target:\n",
    "            nums.append(i)\n",
    "    return nums\n",
    "\n",
    "arr = [2, 9, 11, 15]\n",
    "target = 9\n",
    "find_indices(arr, target)"
   ]
  },
  {
   "cell_type": "markdown",
   "metadata": {},
   "source": [
    "# [Optional I] - Solve with for loops\n",
    "You have an array of integers, return indices of the two numbers such that they add to a target.\n",
    "Assume that each input would have exactly one solution, and you may not use the same element twice.\n",
    "Given nums = [2, 7, 11, 15], target = 9.\n",
    "\n",
    "### Example:\n",
    "Because nums[0] + nums[1] = 2 + 7 = 9,\n",
    "return [0, 1]."
   ]
  },
  {
   "cell_type": "code",
   "execution_count": 2,
   "metadata": {},
   "outputs": [
    {
     "data": {
      "text/plain": [
       "[0, 1]"
      ]
     },
     "execution_count": 2,
     "metadata": {},
     "output_type": "execute_result"
    }
   ],
   "source": [
    "def find_indices_sum(arr, target):\n",
    "    nums = []\n",
    "    for i in range(len(arr) - 1):\n",
    "        for j in range(1, len(arr)):\n",
    "            if arr[i] + arr[j] == target:\n",
    "                nums.append(i)\n",
    "                nums.append(j)\n",
    "                break\n",
    "        if len(nums):\n",
    "            break\n",
    "    return nums\n",
    "\n",
    "arr = [2, 7, 11, 15]\n",
    "target = 9\n",
    "find_indices_sum(arr, target)"
   ]
  },
  {
   "cell_type": "markdown",
   "metadata": {},
   "source": [
    "# [Optional II] - Solve the same with only one loop and a dictionary"
   ]
  },
  {
   "cell_type": "code",
   "execution_count": 3,
   "metadata": {},
   "outputs": [
    {
     "data": {
      "text/plain": [
       "[0, 1]"
      ]
     },
     "execution_count": 3,
     "metadata": {},
     "output_type": "execute_result"
    }
   ],
   "source": [
    "def find_indices_dic(arr, target):\n",
    "    nums = []\n",
    "    dic = {}\n",
    "    for i in range(len(arr)):\n",
    "        if target - arr[i] in dic:\n",
    "            nums.append(dic[target - arr[i]])\n",
    "            nums.append(i)\n",
    "            break\n",
    "        if arr[i] not in dic:\n",
    "            dic[arr[i]] = i\n",
    "    return nums\n",
    "\n",
    "arr = [2, 7, 11, 15]\n",
    "target = 9\n",
    "find_indices_dic(arr, target)"
   ]
  }
 ],
 "metadata": {
  "kernelspec": {
   "display_name": "Python 3",
   "language": "python",
   "name": "python3"
  },
  "language_info": {
   "codemirror_mode": {
    "name": "ipython",
    "version": 3
   },
   "file_extension": ".py",
   "mimetype": "text/x-python",
   "name": "python",
   "nbconvert_exporter": "python",
   "pygments_lexer": "ipython3",
   "version": "3.7.3"
  }
 },
 "nbformat": 4,
 "nbformat_minor": 2
}
