{
 "cells": [
  {
   "cell_type": "markdown",
   "metadata": {},
   "source": [
    "# WARM UP: For loops and alternatives\n",
    "\n",
    "## Given an array of integers, return the index of the target number - try doing it with a for loop. Notice that the target number can repeat several times.\n",
    "\n",
    "Example:\n",
    "Given nums = [2, 9, 11, 15], target = 9,\n",
    "\n",
    "Because nums[1] = 9\n",
    "\n",
    "return [1]."
   ]
  },
  {
   "cell_type": "code",
   "execution_count": 5,
   "metadata": {},
   "outputs": [],
   "source": [
    "def index_finder(num_list, target):\n",
    "    \n",
    "    spot = -1 # initialize a counter to keep track of indices\n",
    "    spots = [] # initialize a list to store indices\n",
    "     \n",
    "    for number in num_list: #iterate through list\n",
    "        spot += 1 # increment counter\n",
    "        if number == target: # if the value is the target\n",
    "            spots.append(spot) # append the index to the indexes list\n",
    "            \n",
    "    \n",
    "    return spots \n",
    "        "
   ]
  },
  {
   "cell_type": "code",
   "execution_count": 8,
   "metadata": {},
   "outputs": [
    {
     "data": {
      "text/plain": [
       "[9]"
      ]
     },
     "execution_count": 8,
     "metadata": {},
     "output_type": "execute_result"
    }
   ],
   "source": [
    "index_finder([0, 1, 2, 3, 4, 5, 6, 7, 8, 9], 9)\n",
    "\n",
    "\n"
   ]
  },
  {
   "cell_type": "markdown",
   "metadata": {},
   "source": [
    "# [optional I] - solve with for loops\n",
    "\n",
    "You have an array of integers, return indices of the two numbers such that they add to a target. Assume that each input would have exactly one solution, and you may not use the same element twice. Given nums = [2, 7, 11, 15], target = 9,\n",
    "\n",
    "Example\n",
    "Because nums[0] + nums[1] = 2 + 7 = 9, return [0, 1]."
   ]
  },
  {
   "cell_type": "code",
   "execution_count": 48,
   "metadata": {},
   "outputs": [],
   "source": [
    "def sum_finder(nums, target):\n",
    "    #initialize index1\n",
    "    index1 = -1\n",
    "    for number1 in nums:\n",
    "        # initialize index2\n",
    "        index1 +=1\n",
    "        index2 = -1\n",
    "        for number2 in nums:\n",
    "            index2 += 1\n",
    "            added = number1 + number2\n",
    "            if  added == target and index1 != index2:\n",
    "                return [index1, index2]\n",
    "            \n",
    "    return print('List contains no two numbers that sum to target')\n",
    "                \n",
    "\n",
    "# Good lesson for me: the .index() method returns the first item in the list that matches. \n",
    "# It won't find anything further down."
   ]
  },
  {
   "cell_type": "code",
   "execution_count": 50,
   "metadata": {},
   "outputs": [
    {
     "data": {
      "text/plain": [
       "[0, 3]"
      ]
     },
     "execution_count": 50,
     "metadata": {},
     "output_type": "execute_result"
    }
   ],
   "source": [
    "sum_finder([1, 1, 2, 3, 4, 5, 6], 4)"
   ]
  },
  {
   "cell_type": "markdown",
   "metadata": {},
   "source": [
    "# [optional II] - solve the same with only one loop and a dictionary"
   ]
  },
  {
   "cell_type": "code",
   "execution_count": 13,
   "metadata": {},
   "outputs": [],
   "source": [
    "nums = [2, 7, 11, 15]\n",
    "target = 9\n",
    "\n",
    "def sum_finder(nums, target):\n",
    "    \n",
    "    # initialize dictionary\n",
    "    dictionary = {}\n",
    "    for item in range(len(nums)):\n",
    "        checker = target - nums[item]\n",
    "        dictionary[nums[item]] = item\n",
    "        \n",
    "        if checker in dictionary.keys():\n",
    "            return [dictionary[checker], item]\n",
    "        \n",
    "        \n",
    "    return print('Not there')\n",
    "    \n",
    "        \n",
    "        \n",
    "        "
   ]
  },
  {
   "cell_type": "code",
   "execution_count": 14,
   "metadata": {},
   "outputs": [
    {
     "data": {
      "text/plain": [
       "[0, 1]"
      ]
     },
     "execution_count": 14,
     "metadata": {},
     "output_type": "execute_result"
    }
   ],
   "source": [
    "sum_finder(nums, target)\n"
   ]
  },
  {
   "cell_type": "code",
   "execution_count": 15,
   "metadata": {},
   "outputs": [
    {
     "data": {
      "text/plain": [
       "[1, 4]"
      ]
     },
     "execution_count": 15,
     "metadata": {},
     "output_type": "execute_result"
    }
   ],
   "source": [
    "nums = [5, 2, 1, 1, 7]\n",
    "sum_finder(nums, target)"
   ]
  },
  {
   "cell_type": "code",
   "execution_count": 16,
   "metadata": {},
   "outputs": [
    {
     "name": "stdout",
     "output_type": "stream",
     "text": [
      "Not there\n"
     ]
    }
   ],
   "source": [
    "nums = [1, 1, 1, 1]\n",
    "sum_finder(nums, target)"
   ]
  }
 ],
 "metadata": {
  "kernelspec": {
   "display_name": "Python 3",
   "language": "python",
   "name": "python3"
  },
  "language_info": {
   "codemirror_mode": {
    "name": "ipython",
    "version": 3
   },
   "file_extension": ".py",
   "mimetype": "text/x-python",
   "name": "python",
   "nbconvert_exporter": "python",
   "pygments_lexer": "ipython3",
   "version": "3.7.3"
  }
 },
 "nbformat": 4,
 "nbformat_minor": 2
}
