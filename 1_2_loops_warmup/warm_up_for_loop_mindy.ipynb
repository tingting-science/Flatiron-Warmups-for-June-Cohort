{
 "cells": [
  {
   "cell_type": "markdown",
   "metadata": {},
   "source": [
    "#  For loops and alternatives\n",
    "\n",
    "Given an array of integers, return the index of of the target number - try doing it with a for loop. Notice that the target number can repeat several times."
   ]
  },
  {
   "cell_type": "markdown",
   "metadata": {},
   "source": [
    "### Example:\n",
    "\n",
    "Given nums = [2, 9, 11, 15], target = 9,\n",
    "\n",
    "Because nums[1] = 9\n",
    "\n",
    "return [1]."
   ]
  },
  {
   "cell_type": "code",
   "execution_count": 18,
   "metadata": {},
   "outputs": [
    {
     "data": {
      "text/plain": [
       "array([6, 3, 7, 4, 6, 9, 2, 6])"
      ]
     },
     "execution_count": 18,
     "metadata": {},
     "output_type": "execute_result"
    }
   ],
   "source": [
    "import numpy as np\n",
    "np.random.seed(42)\n",
    "nums = np.random.randint(low = 0, high = 10, size = 8)\n",
    "nums  # genereate a list of 8 random numbers from 0 to 10 "
   ]
  },
  {
   "cell_type": "code",
   "execution_count": 12,
   "metadata": {},
   "outputs": [
    {
     "data": {
      "text/plain": [
       "6"
      ]
     },
     "execution_count": 12,
     "metadata": {},
     "output_type": "execute_result"
    }
   ],
   "source": [
    "target = int(np.random.choice(nums, size = 1))\n",
    "target"
   ]
  },
  {
   "cell_type": "code",
   "execution_count": 19,
   "metadata": {},
   "outputs": [],
   "source": [
    "def return_target_ind(num_list, target):\n",
    "    for i in range(len(nums)):\n",
    "        '''\n",
    "        num_list: a list or numpy array list with ints\n",
    "        target: an int from the num_list\n",
    "        return: an int, the index of the target in the list\n",
    "        '''\n",
    "        if nums[i] == target:\n",
    "            return i"
   ]
  },
  {
   "cell_type": "code",
   "execution_count": 22,
   "metadata": {},
   "outputs": [
    {
     "name": "stdout",
     "output_type": "stream",
     "text": [
      "[6 3 7 4 6 9 2 6] 6\n"
     ]
    }
   ],
   "source": [
    "return_target_ind(nums,target)\n",
    "print (nums, target)"
   ]
  },
  {
   "cell_type": "markdown",
   "metadata": {},
   "source": [
    "# [optional I] - solve with for loops\n",
    " You have an array of integers, return indices of the two numbers such that they add  to a target.\n",
    "Assume that each input would have exactly one solution, and you may not use the same element twice.\n",
    "Given nums = [2, 7, 11, 15], target = 9,\n",
    "\n",
    "### Example \n",
    "Because nums[0] + nums[1] = 2 + 7 = 9,\n",
    "return [0, 1].\n"
   ]
  },
  {
   "cell_type": "code",
   "execution_count": 44,
   "metadata": {},
   "outputs": [
    {
     "data": {
      "text/plain": [
       "[1, 3]"
      ]
     },
     "execution_count": 44,
     "metadata": {},
     "output_type": "execute_result"
    }
   ],
   "source": [
    "# create a list with solutions\n",
    "new_nums = [1,5,8,3,15]\n",
    "target = 8 \n",
    "def solve_sum(num_list, target):\n",
    "    '''\n",
    "    num_list: a list of ints\n",
    "    target: an int, 2 num from num_list should add to equal the target\n",
    "    return the ind of the 2 nums as a list \n",
    "    '''\n",
    "    for i in range(len(num_list)):\n",
    "        if num_list[i] < target:\n",
    "            for j in range(i+1, len(num_list)-i):\n",
    "                if num_list[i] + num_list[j] == target:\n",
    "                    ans = [i,j]\n",
    "                    break\n",
    "    return ans\n",
    "solve_sum(new_nums, target)"
   ]
  },
  {
   "cell_type": "markdown",
   "metadata": {},
   "source": [
    "# [optional II] - solve the same with only one loop and a dictionary"
   ]
  },
  {
   "cell_type": "code",
   "execution_count": 56,
   "metadata": {
    "scrolled": true
   },
   "outputs": [
    {
     "data": {
      "text/plain": [
       "[3, 5]"
      ]
     },
     "execution_count": 56,
     "metadata": {},
     "output_type": "execute_result"
    }
   ],
   "source": [
    "# use same num_list and target\n",
    "def ind_dict_sum(num_list, target):\n",
    "    '''\n",
    "    num_list: a list of ints\n",
    "    target: an int, 2 num from num_list should add to equal the target\n",
    "    return the ind of the 2 nums as a list \n",
    "    '''\n",
    "    # create a dict with index as key and target - the num[i] as value\n",
    "    ans = []\n",
    "    num_sum_dict = {i:target-new_nums[i] for i in range(len(new_nums))}\n",
    "    for k, v in num_sum_dict.items():\n",
    "        # if the value add up to be target, then target - value should also in list\n",
    "        if v in num_list:\n",
    "            ans.append(v)\n",
    "    return ans\n",
    "ind_dict_sum(new_nums, target)"
   ]
  }
 ],
 "metadata": {
  "kernelspec": {
   "display_name": "Python 3",
   "language": "python",
   "name": "python3"
  },
  "language_info": {
   "codemirror_mode": {
    "name": "ipython",
    "version": 3
   },
   "file_extension": ".py",
   "mimetype": "text/x-python",
   "name": "python",
   "nbconvert_exporter": "python",
   "pygments_lexer": "ipython3",
   "version": "3.7.1"
  }
 },
 "nbformat": 4,
 "nbformat_minor": 2
}
