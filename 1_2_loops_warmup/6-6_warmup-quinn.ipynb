{
 "cells": [
  {
   "cell_type": "markdown",
   "metadata": {},
   "source": [
    "#  For loops and alternatives\n",
    "\n",
    "Given an array of integers, return the index of of the target number - try doing it with a for loop. Notice that the target number can repeat several times."
   ]
  },
  {
   "cell_type": "code",
   "execution_count": 6,
   "metadata": {},
   "outputs": [],
   "source": [
    "nums = [2, 9, 11, 15]\n",
    "target = 9"
   ]
  },
  {
   "cell_type": "code",
   "execution_count": 7,
   "metadata": {},
   "outputs": [
    {
     "name": "stdout",
     "output_type": "stream",
     "text": [
      "Using index method:  1\n",
      "Using for loop:  1\n"
     ]
    }
   ],
   "source": [
    "\n",
    "# the built in function way\n",
    "print(\"Using index method: \", nums.index(target))\n",
    "\n",
    "# the for loop way\n",
    "for i in range(len(nums)):\n",
    "    if nums[i] == target: \n",
    "        print(\"Using for loop: \", i)\n",
    "        break\n"
   ]
  },
  {
   "cell_type": "markdown",
   "metadata": {},
   "source": [
    " # [optional I] - solve with for loops\n",
    " You have an array of integers, return indices of the two numbers such that they add  to a target.\n",
    "Assume that each input would have exactly one solution, and you may not use the same element twice.\n",
    "Given nums = [2, 7, 11, 15], target = 9,\n",
    "\n",
    "\n",
    " # [optional II] - solve the same with only one loop and a dictionary"
   ]
  },
  {
   "cell_type": "code",
   "execution_count": 17,
   "metadata": {},
   "outputs": [],
   "source": [
    "nums = [3, 11, 14, 7, 3]\n",
    "\n",
    "def sum_to_target(nums, target):\n",
    "    \n",
    "    seen = {}\n",
    "    \n",
    "    for i in range(len(nums)):\n",
    "        # if the *number* exists in seen that would add up tp target, then return the two indeces.\n",
    "        if (target - nums[i]) in seen:  \n",
    "            return (seen[target - nums[i]], i)\n",
    "        # If the number does not exist, add the current number to the seen dict and continue\n",
    "        else: \n",
    "            seen[nums[i]] = i \n",
    "    \n",
    "    return None\n",
    "    \n",
    "sum_to_target(nums, 9)"
   ]
  },
  {
   "cell_type": "code",
   "execution_count": null,
   "metadata": {},
   "outputs": [],
   "source": []
  }
 ],
 "metadata": {
  "kernelspec": {
   "display_name": "Python 3",
   "language": "python",
   "name": "python3"
  },
  "language_info": {
   "codemirror_mode": {
    "name": "ipython",
    "version": 3
   },
   "file_extension": ".py",
   "mimetype": "text/x-python",
   "name": "python",
   "nbconvert_exporter": "python",
   "pygments_lexer": "ipython3",
   "version": "3.7.3"
  }
 },
 "nbformat": 4,
 "nbformat_minor": 2
}
