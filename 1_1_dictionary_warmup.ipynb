{
 "cells": [
  {
   "cell_type": "markdown",
   "metadata": {},
   "source": [
    "# 1. Create a dictionary where each object contains a list of one float (Age) and one string (Family name) (at least 5 objects)"
   ]
  },
  {
   "cell_type": "code",
   "execution_count": 9,
   "metadata": {},
   "outputs": [],
   "source": [
    "dictionary = {'obj1':[1.1, 'christy'], 'obj2': [6.1, 'christie'], 'obj3':[3.1, 'carrol'], 'obj4': [4.1, 'adams'], 'obj5': [5.1, 'jackson']}\n"
   ]
  },
  {
   "cell_type": "markdown",
   "metadata": {},
   "source": [
    "# Delete one item from the dictionary"
   ]
  },
  {
   "cell_type": "code",
   "execution_count": 10,
   "metadata": {},
   "outputs": [
    {
     "data": {
      "text/plain": [
       "{'obj1': [1.1, 'christy'],\n",
       " 'obj2': [6.1, 'christie'],\n",
       " 'obj3': [3.1, 'carrol'],\n",
       " 'obj4': [4.1, 'adams']}"
      ]
     },
     "execution_count": 10,
     "metadata": {},
     "output_type": "execute_result"
    }
   ],
   "source": [
    "del(dictionary['obj5'])\n",
    "dictionary"
   ]
  },
  {
   "cell_type": "markdown",
   "metadata": {},
   "source": [
    "# Replace the float number of one of your objects - we are changing a list entry inside a dictionary record! look at Darwin's new age"
   ]
  },
  {
   "cell_type": "code",
   "execution_count": 11,
   "metadata": {},
   "outputs": [],
   "source": [
    "dictionary['obj2'][0] = 1.1"
   ]
  },
  {
   "cell_type": "code",
   "execution_count": 12,
   "metadata": {},
   "outputs": [
    {
     "data": {
      "text/plain": [
       "{'obj1': [1.1, 'christy'],\n",
       " 'obj2': [1.1, 'christie'],\n",
       " 'obj3': [3.1, 'carrol'],\n",
       " 'obj4': [4.1, 'adams']}"
      ]
     },
     "execution_count": 12,
     "metadata": {},
     "output_type": "execute_result"
    }
   ],
   "source": [
    "dictionary"
   ]
  },
  {
   "cell_type": "markdown",
   "metadata": {},
   "source": [
    "# write a for loop that goes through all records in the dictionary, prints the family name and assigns the float numbers into one merged list (see ages)"
   ]
  },
  {
   "cell_type": "code",
   "execution_count": 13,
   "metadata": {},
   "outputs": [
    {
     "name": "stdout",
     "output_type": "stream",
     "text": [
      "christy\n",
      "christie\n",
      "carrol\n",
      "adams\n",
      "[1.1, 1.1, 3.1, 4.1]\n"
     ]
    }
   ],
   "source": [
    "ages = []\n",
    "for key, value in dictionary.items():\n",
    "    print(value[1])\n",
    "    ages.append(value[0])\n",
    "\n",
    "print(ages)"
   ]
  },
  {
   "cell_type": "markdown",
   "metadata": {},
   "source": [
    "# Optional: Calculate with a for loop the median and mean of the ages list"
   ]
  },
  {
   "cell_type": "code",
   "execution_count": 19,
   "metadata": {},
   "outputs": [
    {
     "name": "stdout",
     "output_type": "stream",
     "text": [
      "Mean:  2.35\n",
      "Median:  3.6\n"
     ]
    }
   ],
   "source": [
    "total = 0 # initialize a total\n",
    "n = len(ages) # need length of list for averages\n",
    "for age in ages: # Start loop to sum all ages\n",
    "    total += age\n",
    "    \n",
    "item = int(n/2) # Get middle index for ages\n",
    "\n",
    "age_sort = sorted(ages) # sort ages\n",
    "if n%2 == 0: # if even sum the two middle numbers\n",
    "    \n",
    "    median = (ages[item] + ages[item + 1])/2\n",
    "\n",
    "else: # else grab the middle \n",
    "    median = ages[item]\n",
    "    \n",
    "    \n",
    "    \n",
    "print('Mean: ', total/n)\n",
    "print('Median: ', round(median, 2))\n"
   ]
  }
 ],
 "metadata": {
  "kernelspec": {
   "display_name": "Python 3",
   "language": "python",
   "name": "python3"
  },
  "language_info": {
   "codemirror_mode": {
    "name": "ipython",
    "version": 3
   },
   "file_extension": ".py",
   "mimetype": "text/x-python",
   "name": "python",
   "nbconvert_exporter": "python",
   "pygments_lexer": "ipython3",
   "version": "3.7.3"
  }
 },
 "nbformat": 4,
 "nbformat_minor": 2
}
