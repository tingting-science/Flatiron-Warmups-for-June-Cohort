{
 "cells": [
  {
   "cell_type": "markdown",
   "metadata": {},
   "source": [
    "# WARM UP: For loops and alternatives\n",
    "\n",
    "## Given an array of integers, return the index of the target number - try doing it with a for loop. Notice that the target number can repeat several times.\n",
    "\n",
    "Example:\n",
    "Given nums = [2, 9, 11, 15], target = 9,\n",
    "\n",
    "Because nums[1] = 9\n",
    "\n",
    "return [1]."
   ]
  },
  {
   "cell_type": "code",
   "execution_count": 1,
   "metadata": {},
   "outputs": [],
   "source": [
    "def index_finder(num_list, target):\n",
    "    \n",
    "    spot = -1 # initialize a counter to keep track of indices\n",
    "    spots = [] # initialize a list to store indices\n",
    "     \n",
    "    for number in num_list: #iterate through list\n",
    "        spot += 1 # increment counter\n",
    "        if number == target: # if the value is the target\n",
    "            spots.append(spot) # append the index to the indexes list\n",
    "            \n",
    "    \n",
    "    return spots \n",
    "        "
   ]
  },
  {
   "cell_type": "code",
   "execution_count": 2,
   "metadata": {},
   "outputs": [
    {
     "data": {
      "text/plain": [
       "2"
      ]
     },
     "execution_count": 2,
     "metadata": {},
     "output_type": "execute_result"
    }
   ],
   "source": [
    "index_finder([1,2,3,4,5,6,7,8,9,10,11,12,9], 9)\n",
    "\n",
    "h = [1,2,3,4,5,6,7,8,9,10,11,12,9]\n",
    "\n",
    "h.index(3)"
   ]
  },
  {
   "cell_type": "markdown",
   "metadata": {},
   "source": [
    "Jupyter Notebook\n",
    "warmup_dict\n",
    "(autosaved)\n",
    "Current Kernel Logo\n",
    "Python 3 \n",
    "File\n",
    "Edit\n",
    "View\n",
    "Insert\n",
    "Cell\n",
    "Kernel\n",
    "Widgets\n",
    "Help\n",
    "\n",
    "1. Create a dictionary where each object contains a list of one float (Age) and one string (Family name) (at least 5 objects)\n",
    "dictionary = {'obj1':[1.1, 'christy'], 'obj2': [6.1, 'christie'], 'obj3':[3.1, 'carrol'], 'obj4': [4.1, 'adams'], 'obj5': [5.1, 'jackson']}\n",
    "​\n",
    "Delete one item from the dictionary\n",
    "del(dictionary['obj5'])\n",
    "dictionary\n",
    "{'obj1': [1.1, 'christy'],\n",
    " 'obj2': [6.1, 'christie'],\n",
    " 'obj3': [3.1, 'carrol'],\n",
    " 'obj4': [4.1, 'adams']}\n",
    "Replace the float number of one of your objects - we are changing a list entry inside a dictionary record! look at Darwin's new age\n",
    "dictionary['obj2'][0] = 1.1\n",
    "dictionary\n",
    "{'obj1': [1.1, 'christy'],\n",
    " 'obj2': [1.1, 'christie'],\n",
    " 'obj3': [3.1, 'carrol'],\n",
    " 'obj4': [4.1, 'adams']}\n",
    "write a for loop that goes through all records in the dictionary, prints the family name and assigns the float numbers into one merged list (see ages)\n",
    "ages = []\n",
    "for key, value in dictionary.items():\n",
    "    print(value[1])\n",
    "    ages.append(value[0])\n",
    "​\n",
    "print(ages)\n",
    "christy\n",
    "christie\n",
    "carrol\n",
    "adams\n",
    "[1.1, 1.1, 3.1, 4.1]\n",
    "Optional: Calculate with a for loop the median and mean of the ages list\n",
    "total = 0 # initialize a total\n",
    "n = len(ages) # need length of list for averages\n",
    "for age in ages: # Start loop to sum all ages\n",
    "    total += age\n",
    "    \n",
    "item = int(n/2) # Get middle index for ages\n",
    "​\n",
    "age_sort = sorted(ages) # sort ages\n",
    "if n%2 == 0: # if even sum the two middle numbers\n",
    "    \n",
    "    median = (ages[item] + ages[item + 1])/2\n",
    "​\n",
    "else: # else grab the middle \n",
    "    median = ages[item]\n",
    "    \n",
    "    \n",
    "    \n",
    "print('Mean: ', total/n)\n",
    "print('Median: ', round(median, 2))\n",
    "​\n",
    "Mean:  2.35\n",
    "Median:  3.6\n",
    "# WARM UP 2 (accidentally kept going): For loops and alternatives\n",
    "\n",
    "## Given an array of integers, return the index of the target number - try doing it with a for loop. Notice that the target number can repeat several times.\n",
    "\n",
    "Example:\n",
    "Given nums = [2, 9, 11, 15], target = 9,\n",
    "\n",
    "Because nums[1] = 9\n",
    "\n",
    "return [1].\n",
    "# WARM UP 2 (accidentally kept going): For loops and alternatives\n",
    "​\n",
    "## Given an array of integers, return the index of the target number - try doing it with a for loop. Notice that the target number can repeat several times.\n",
    "​\n",
    "Example:\n",
    "Given nums = [2, 9, 11, 15], target = 9,\n",
    "​\n",
    "Because nums[1] = 9\n",
    "​\n"
   ]
  },
  {
   "cell_type": "code",
   "execution_count": 3,
   "metadata": {},
   "outputs": [],
   "source": [
    "def sum_finder(nums, target):\n",
    "    for number1 in nums:\n",
    "        for number2 in nums:\n",
    "            added = number1 + number2\n",
    "            if  added == target and nums.index(number1) != nums.index(number2):\n",
    "                return [nums.index(number1), nums.index(number2)]\n",
    "            \n",
    "    return print('List contains no two numbers that sum to target')\n",
    "                "
   ]
  },
  {
   "cell_type": "code",
   "execution_count": 4,
   "metadata": {},
   "outputs": [
    {
     "name": "stdout",
     "output_type": "stream",
     "text": [
      "List contains no two numbers that sum to target\n"
     ]
    }
   ],
   "source": [
    "sum_finder([4,4, 5], 4)"
   ]
  },
  {
   "cell_type": "markdown",
   "metadata": {},
   "source": [
    "# [optional II] - solve the same with only one loop and a dictionary"
   ]
  },
  {
   "cell_type": "code",
   "execution_count": null,
   "metadata": {},
   "outputs": [],
   "source": []
  }
 ],
 "metadata": {
  "kernelspec": {
   "display_name": "Python 3",
   "language": "python",
   "name": "python3"
  },
  "language_info": {
   "codemirror_mode": {
    "name": "ipython",
    "version": 3
   },
   "file_extension": ".py",
   "mimetype": "text/x-python",
   "name": "python",
   "nbconvert_exporter": "python",
   "pygments_lexer": "ipython3",
   "version": "3.7.3"
  }
 },
 "nbformat": 4,
 "nbformat_minor": 2
}
