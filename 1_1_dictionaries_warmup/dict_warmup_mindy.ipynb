{
 "cells": [
  {
   "cell_type": "markdown",
   "metadata": {},
   "source": [
    "### 1. Create a dictionary where each object contains a list of one float (Age) and one string (Family name) (at least 5 objects)\n",
    "\n",
    "Example:\n",
    "`{Charles: [23.4, \"Darwin\"], Alan: [42.5, \"Turing\"]}`"
   ]
  },
  {
   "cell_type": "code",
   "execution_count": 9,
   "metadata": {},
   "outputs": [],
   "source": [
    "age_name = {'Tim': [19.4, 'Ferrel'], 'Mary': [31.5, 'Kate'], 'Jason': [47.6, 'Morrison'],\\\n",
    "           'David': [44.5, 'Beckham'], 'Kathy': [35.5, 'Winsley'], 'Peter': [55.3, 'Allen']}"
   ]
  },
  {
   "cell_type": "markdown",
   "metadata": {},
   "source": [
    "### 2. Delete one object from the dictionary"
   ]
  },
  {
   "cell_type": "code",
   "execution_count": 10,
   "metadata": {
    "scrolled": true
   },
   "outputs": [
    {
     "data": {
      "text/plain": [
       "{'Mary': [31.5, 'Kate'],\n",
       " 'Jason': [47.6, 'Morrison'],\n",
       " 'David': [44.5, 'Beckham'],\n",
       " 'Kathy': [35.5, 'Winsley'],\n",
       " 'Peter': [55.3, 'Allen']}"
      ]
     },
     "execution_count": 10,
     "metadata": {},
     "output_type": "execute_result"
    }
   ],
   "source": [
    "del age_name['Tim']\n",
    "age_name"
   ]
  },
  {
   "cell_type": "markdown",
   "metadata": {},
   "source": [
    "### 3. Replace the float number of one of your objects - we are changing a list entry inside a dictionary record! look at Darwin's new age\n",
    "\n",
    "Example:\n",
    "`{Charles: [99.73, \"Darwin\"], Alan: [42.5, \"Turing\"]}`"
   ]
  },
  {
   "cell_type": "code",
   "execution_count": 11,
   "metadata": {},
   "outputs": [
    {
     "data": {
      "text/plain": [
       "{'Mary': [35.5, 'Kate'],\n",
       " 'Jason': [47.6, 'Morrison'],\n",
       " 'David': [44.5, 'Beckham'],\n",
       " 'Kathy': [35.5, 'Winsley'],\n",
       " 'Peter': [55.3, 'Allen']}"
      ]
     },
     "execution_count": 11,
     "metadata": {},
     "output_type": "execute_result"
    }
   ],
   "source": [
    "age_name['Mary'][0]= 35.5\n",
    "age_name"
   ]
  },
  {
   "cell_type": "markdown",
   "metadata": {},
   "source": [
    "### 4. write a for loop that goes through all records in the dictionary, prints the family name and assigns the float numbers into one merged list (see ages)\n",
    "\n",
    "`ages = [23.4, 22.9, 552.9]`"
   ]
  },
  {
   "cell_type": "code",
   "execution_count": 26,
   "metadata": {},
   "outputs": [
    {
     "name": "stdout",
     "output_type": "stream",
     "text": [
      "family name is Kate\n",
      "family name is Morrison\n",
      "family name is Beckham\n",
      "family name is Winsley\n",
      "family name is Allen\n",
      "\n",
      " [35.5, 47.6, 44.5, 35.5, 55.3]\n"
     ]
    }
   ],
   "source": [
    "ages = []\n",
    "for value in age_name.values():\n",
    "    print (f'family name is {value[1]}')\n",
    "    ages.append(value[0])\n",
    "print(f'\\n {ages}')    "
   ]
  },
  {
   "cell_type": "markdown",
   "metadata": {},
   "source": [
    "### 5. Download your notebbok as a .py (regular python script) save it somewhere you know\n",
    "\n"
   ]
  },
  {
   "cell_type": "markdown",
   "metadata": {},
   "source": [
    "### 6. Go to terminal, navigate to the folder where you have saved the script and execute it through the terminal\n",
    "\n",
    "`use commandds: \n",
    "cd and \n",
    "python your_script.py`"
   ]
  },
  {
   "cell_type": "markdown",
   "metadata": {},
   "source": [
    "### [optional] Calculate with a for loop the median and mean of the ages list\n",
    "\n"
   ]
  },
  {
   "cell_type": "code",
   "execution_count": 44,
   "metadata": {},
   "outputs": [
    {
     "data": {
      "text/plain": [
       "(43.67999999999999, 44.5)"
      ]
     },
     "execution_count": 44,
     "metadata": {},
     "output_type": "execute_result"
    }
   ],
   "source": [
    "total =0\n",
    "for age in ages:\n",
    "    total += age\n",
    "mean = total/len(ages)\n",
    "sorted_ages = ages.sort()\n",
    "id = len(ages)//2\n",
    "median = ages[id]\n",
    "mean, median"
   ]
  }
 ],
 "metadata": {
  "kernelspec": {
   "display_name": "Python 3",
   "language": "python",
   "name": "python3"
  },
  "language_info": {
   "codemirror_mode": {
    "name": "ipython",
    "version": 3
   },
   "file_extension": ".py",
   "mimetype": "text/x-python",
   "name": "python",
   "nbconvert_exporter": "python",
   "pygments_lexer": "ipython3",
   "version": "3.7.1"
  }
 },
 "nbformat": 4,
 "nbformat_minor": 2
}
